{
 "cells": [
  {
   "cell_type": "markdown",
   "id": "d691fc24",
   "metadata": {},
   "source": [
    "# 📘 02 - Control Flow\n",
    "\n",
    "Learn how to use conditional logic in Python."
   ]
  },
  {
   "cell_type": "markdown",
   "id": "07e43ba3",
   "metadata": {},
   "source": [
    "## ✅ Learning Goals\n",
    "- Write `if`, `elif`, `else` statements\n",
    "- Understand truthy/falsy values\n",
    "- Combine conditions using `and`, `or`, `not`"
   ]
  },
  {
   "cell_type": "code",
   "execution_count": 2,
   "id": "3c8cac6d",
   "metadata": {},
   "outputs": [
    {
     "name": "stdout",
     "output_type": "stream",
     "text": [
      "You are an adult.\n"
     ]
    }
   ],
   "source": [
    "# 🔧 Basic example\n",
    "age = 20\n",
    "if age >= 18:\n",
    "    print('You are an adult.')\n",
    "else:\n",
    "    print('You are a minor.')"
   ]
  },
  {
   "cell_type": "markdown",
   "id": "ae0d2437",
   "metadata": {},
   "source": [
    "## 🔀 Multiple Branches"
   ]
  },
  {
   "cell_type": "code",
   "execution_count": 3,
   "id": "e2527038",
   "metadata": {},
   "outputs": [
    {
     "name": "stdout",
     "output_type": "stream",
     "text": [
      "Just right.\n"
     ]
    }
   ],
   "source": [
    "temp = 72\n",
    "if temp > 90:\n",
    "    print('Too hot!')\n",
    "elif temp < 60:\n",
    "    print('Too cold!')\n",
    "else:\n",
    "    print('Just right.')"
   ]
  },
  {
   "cell_type": "markdown",
   "id": "b2aa7088",
   "metadata": {},
   "source": [
    "### ✏️ Your Turn\n",
    "Use `input()` to ask a user their grade and print a message based on value."
   ]
  },
  {
   "cell_type": "code",
   "execution_count": 6,
   "id": "f096a974",
   "metadata": {},
   "outputs": [
    {
     "name": "stdout",
     "output_type": "stream",
     "text": [
      "59\n",
      "F\n"
     ]
    }
   ],
   "source": [
    "# Example:\n",
    "# grade = int(input('Enter your score: '))\n",
    "# if grade >= 90:\n",
    "#     print('A')\n",
    "# elif grade >= 80:\n",
    "#     print('B')\n",
    "# ...\n",
    "\n",
    "grade = int(input(\"enter grade: \"))\n",
    "print(grade)\n",
    "if grade >= 90:\n",
    "    print('A')\n",
    "elif grade >= 80:\n",
    "    print('B')\n",
    "elif grade >= 70:\n",
    "    print('C')\n",
    "elif grade >= 60:\n",
    "    print('D')\n",
    "else:\n",
    "    print('F')"
   ]
  }
 ],
 "metadata": {
  "kernelspec": {
   "display_name": "Python 3",
   "language": "python",
   "name": "python3"
  },
  "language_info": {
   "codemirror_mode": {
    "name": "ipython",
    "version": 3
   },
   "file_extension": ".py",
   "mimetype": "text/x-python",
   "name": "python",
   "nbconvert_exporter": "python",
   "pygments_lexer": "ipython3",
   "version": "3.12.8"
  }
 },
 "nbformat": 4,
 "nbformat_minor": 5
}
