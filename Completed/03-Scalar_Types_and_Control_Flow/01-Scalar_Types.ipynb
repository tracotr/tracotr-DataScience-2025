{
 "cells": [
  {
   "cell_type": "markdown",
   "id": "c224876d",
   "metadata": {},
   "source": [
    "# 📘 01 - Scalar Types\n",
    "\n",
    "Review and practice working with Python's basic scalar data types."
   ]
  },
  {
   "cell_type": "markdown",
   "id": "39c1942a",
   "metadata": {},
   "source": [
    "## ✅ Learning Goals\n",
    "- Recognize scalar types (`int`, `float`, `str`, `bool`)\n",
    "- Use the `type()` function to identify types\n",
    "- Use variables and assignment"
   ]
  },
  {
   "cell_type": "code",
   "execution_count": 5,
   "id": "0cf15b63",
   "metadata": {},
   "outputs": [],
   "source": [
    "# 🔧 Define some variables\n",
    "num = 42\n",
    "pi = 3.14159\n",
    "name = 'Python'\n",
    "is_cool = True"
   ]
  },
  {
   "cell_type": "code",
   "execution_count": 6,
   "id": "7c8e8452",
   "metadata": {},
   "outputs": [
    {
     "name": "stdout",
     "output_type": "stream",
     "text": [
      "<class 'int'>\n",
      "<class 'float'>\n",
      "<class 'str'>\n",
      "<class 'bool'>\n"
     ]
    }
   ],
   "source": [
    "# 🔍 Check their types\n",
    "print(type(num))\n",
    "print(type(pi))\n",
    "print(type(name))\n",
    "print(type(is_cool))"
   ]
  },
  {
   "cell_type": "markdown",
   "id": "2c345a8b",
   "metadata": {},
   "source": [
    "### ✏️ Your Turn\n",
    "Create your own variables of each type and print them."
   ]
  },
  {
   "cell_type": "code",
   "execution_count": 1,
   "id": "038b4f44",
   "metadata": {},
   "outputs": [
    {
     "name": "stdout",
     "output_type": "stream",
     "text": [
      "<class 'int'>\n",
      "<class 'float'>\n",
      "<class 'str'>\n",
      "<class 'bool'>\n"
     ]
    }
   ],
   "source": [
    "# Your code here\n",
    "num = 3\n",
    "decimal = 3.01\n",
    "name = \"Jaxon\"\n",
    "yes = False\n",
    "\n",
    "print(type(num))\n",
    "print(type(decimal))\n",
    "print(type(name))\n",
    "print(type(yes))"
   ]
  },
  {
   "cell_type": "markdown",
   "id": "f02be606",
   "metadata": {},
   "source": [
    "## ⚖️ Comparison Practice\n",
    "Use comparison operators to check values."
   ]
  },
  {
   "cell_type": "code",
   "execution_count": null,
   "id": "9bf84dc7",
   "metadata": {},
   "outputs": [
    {
     "name": "stdout",
     "output_type": "stream",
     "text": [
      "True\n",
      "False\n",
      "True\n",
      "True\n"
     ]
    }
   ],
   "source": [
    "x = 10\n",
    "y = 5\n",
    "print(x > y)\n",
    "print(x == y)\n",
    "print(x != y)"
   ]
  },
  {
   "cell_type": "markdown",
   "id": "789b6f3d",
   "metadata": {},
   "source": [
    "## 🧠 Quick Check\n",
    "What will the following print?\n",
    "```python\n",
    "print(3.0 == 3)\n",
    "```\n",
    "\n",
    "it prints true because python doesn't care about the type just the value\n"
   ]
  }
 ],
 "metadata": {
  "kernelspec": {
   "display_name": "Python 3",
   "language": "python",
   "name": "python3"
  },
  "language_info": {
   "codemirror_mode": {
    "name": "ipython",
    "version": 3
   },
   "file_extension": ".py",
   "mimetype": "text/x-python",
   "name": "python",
   "nbconvert_exporter": "python",
   "pygments_lexer": "ipython3",
   "version": "3.12.8"
  }
 },
 "nbformat": 4,
 "nbformat_minor": 5
}
