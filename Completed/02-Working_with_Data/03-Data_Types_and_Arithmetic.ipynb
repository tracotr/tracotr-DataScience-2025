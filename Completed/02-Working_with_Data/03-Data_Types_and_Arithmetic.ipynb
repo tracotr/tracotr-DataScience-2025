{
  "cells": [
    {
      "cell_type": "markdown",
      "id": "4b15b08b",
      "metadata": {
        "id": "4b15b08b"
      },
      "source": [
        "# 📘 03 - Data Types and Arithmetic\n",
        "\n",
        "Explore Python basics like variables, data types, and arithmetic operations."
      ]
    },
    {
      "cell_type": "markdown",
      "id": "fe930277",
      "metadata": {
        "id": "fe930277"
      },
      "source": [
        "## ✅ Learning Goals\n",
        "- Understand Python data types\n",
        "- Use variables and print statements\n",
        "- Perform basic arithmetic"
      ]
    },
    {
      "cell_type": "code",
      "execution_count": null,
      "id": "8e873f5b",
      "metadata": {
        "id": "8e873f5b"
      },
      "outputs": [],
      "source": [
        "# 🧠 Variables and Types\n",
        "x = 10\n",
        "y = 3.5\n",
        "z = 'hello'\n",
        "print(type(x), type(y), type(z))"
      ]
    },
    {
      "cell_type": "code",
      "execution_count": null,
      "id": "e90e2be4",
      "metadata": {
        "id": "e90e2be4"
      },
      "outputs": [],
      "source": [
        "# ➕ Arithmetic Operations\n",
        "print('Add:', x + y)\n",
        "print('Divide:', x / y)\n",
        "print('Floor Divide:', x // y)\n",
        "print('Exponent:', x ** 2)"
      ]
    },
    {
      "cell_type": "markdown",
      "id": "7e233e07",
      "metadata": {
        "id": "7e233e07"
      },
      "source": [
        "## ✏️ Try It Yourself\n",
        "- Create your own variables\n",
        "- Try combining numbers and strings\n",
        "- Use `input()` to interact"
      ]
    },
    {
      "cell_type": "code",
      "execution_count": 3,
      "id": "42b3fc61",
      "metadata": {
        "id": "42b3fc61",
        "outputId": "ffcc87b0-7d98-4e70-ada3-5a4caebd17a6",
        "colab": {
          "base_uri": "https://localhost:8080/"
        }
      },
      "outputs": [
        {
          "output_type": "stream",
          "name": "stdout",
          "text": [
            "What is your name? Jaxon\n",
            "What is your age? 22\n",
            "What is your favorite color? Blue\n",
            "Welcome, Jaxon \n",
            "age: 22 \n",
            "favorite color: Blue\n"
          ]
        }
      ],
      "source": [
        "# Your code here\n",
        "name = input('What is your name? ')\n",
        "age = input('What is your age? ')\n",
        "favorite_color = input('What is your favorite color? ')\n",
        "print('Welcome,', name, '\\nage:', age, '\\nfavorite color:', favorite_color)"
      ]
    },
    {
      "cell_type": "markdown",
      "id": "069d6eba",
      "metadata": {
        "id": "069d6eba"
      },
      "source": [
        "## 📤 Submit\n",
        "Make sure your name is at the top in a Markdown cell.\n",
        "Submit via D2L or Colab link."
      ]
    }
  ],
  "metadata": {
    "colab": {
      "provenance": []
    },
    "language_info": {
      "name": "python"
    },
    "kernelspec": {
      "name": "python3",
      "display_name": "Python 3"
    }
  },
  "nbformat": 4,
  "nbformat_minor": 5
}