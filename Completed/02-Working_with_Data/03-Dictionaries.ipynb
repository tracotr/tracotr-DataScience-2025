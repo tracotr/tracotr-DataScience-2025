{
  "cells": [
    {
      "cell_type": "markdown",
      "id": "ba110f51",
      "metadata": {
        "id": "ba110f51"
      },
      "source": [
        "# 📘 03 - Python Dictionaries\n",
        "\n",
        "Dictionaries store key-value pairs for fast lookups."
      ]
    },
    {
      "cell_type": "markdown",
      "id": "32ad5c23",
      "metadata": {
        "id": "32ad5c23"
      },
      "source": [
        "## ✅ Learning Goals\n",
        "- Create and access dictionary items\n",
        "- Use dictionary methods like `.get()` and `.items()`"
      ]
    },
    {
      "cell_type": "code",
      "execution_count": null,
      "id": "d69a5483",
      "metadata": {
        "id": "d69a5483"
      },
      "outputs": [],
      "source": [
        "# 📚 Create a Dictionary\n",
        "student = {'name': 'Alex', 'age': 21, 'major': 'CS'}\n",
        "print(student)"
      ]
    },
    {
      "cell_type": "code",
      "execution_count": null,
      "id": "c014213d",
      "metadata": {
        "id": "c014213d"
      },
      "outputs": [],
      "source": [
        "# 🔍 Access Values\n",
        "print(student['name'])\n",
        "print(student.get('gpa', 'N/A'))"
      ]
    },
    {
      "cell_type": "code",
      "execution_count": null,
      "id": "f80fb0b2",
      "metadata": {
        "id": "f80fb0b2"
      },
      "outputs": [],
      "source": [
        "# 🔁 Loop Over Dictionary\n",
        "for key, value in student.items():\n",
        "    print(key, '->', value)"
      ]
    },
    {
      "cell_type": "markdown",
      "id": "aa0e1c66",
      "metadata": {
        "id": "aa0e1c66"
      },
      "source": [
        "## ✏️ Your Turn\n",
        "Create a dictionary to store information about your favorite book."
      ]
    },
    {
      "cell_type": "code",
      "source": [
        "favorite_book = {\n",
        "    'name': 'Between Two Fires',\n",
        "    'author': 'Christopher Buehlman',\n",
        "    'genre': 'historical fiction horror',\n",
        "    'publish_date': '2012',\n",
        "}\n",
        "\n",
        "for key, value in favorite_book.items():\n",
        "  print(key, \":\", value)"
      ],
      "metadata": {
        "id": "QPobDjmuJv83",
        "outputId": "0ce20f04-27b9-427f-cdf4-93a8168c6c09",
        "colab": {
          "base_uri": "https://localhost:8080/"
        }
      },
      "id": "QPobDjmuJv83",
      "execution_count": 2,
      "outputs": [
        {
          "output_type": "stream",
          "name": "stdout",
          "text": [
            "name : Between Two Fires\n",
            "author : Christopher Buehlman\n",
            "genre : historical fiction horror\n",
            "publish_date : 2012\n"
          ]
        }
      ]
    }
  ],
  "metadata": {
    "colab": {
      "provenance": []
    },
    "language_info": {
      "name": "python"
    },
    "kernelspec": {
      "name": "python3",
      "display_name": "Python 3"
    }
  },
  "nbformat": 4,
  "nbformat_minor": 5
}