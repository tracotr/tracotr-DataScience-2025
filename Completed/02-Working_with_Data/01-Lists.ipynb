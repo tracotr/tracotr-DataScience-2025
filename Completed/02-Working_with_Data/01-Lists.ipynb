{
  "cells": [
    {
      "cell_type": "markdown",
      "id": "47f2636f",
      "metadata": {
        "id": "47f2636f"
      },
      "source": [
        "# 📘 01 - Python Lists\n",
        "\n",
        "Explore how to use lists to store and manipulate data."
      ]
    },
    {
      "cell_type": "markdown",
      "id": "d5e389b6",
      "metadata": {
        "id": "d5e389b6"
      },
      "source": [
        "## ✅ Learning Goals\n",
        "- Create and modify Python lists\n",
        "- Access elements using indexing\n",
        "- Use list methods like `append()`, `remove()`, and `sort()`"
      ]
    },
    {
      "cell_type": "code",
      "execution_count": null,
      "id": "9244ef55",
      "metadata": {
        "id": "9244ef55"
      },
      "outputs": [],
      "source": [
        "# 🔧 Create a List\n",
        "my_list = [10, 20, 30, 40, 50]\n",
        "print(my_list)"
      ]
    },
    {
      "cell_type": "code",
      "execution_count": null,
      "id": "e767a048",
      "metadata": {
        "id": "e767a048"
      },
      "outputs": [],
      "source": [
        "# 🎯 Access Elements\n",
        "print('First item:', my_list[0])\n",
        "print('Last item:', my_list[-1])"
      ]
    },
    {
      "cell_type": "code",
      "execution_count": null,
      "id": "4d9b40bd",
      "metadata": {
        "id": "4d9b40bd"
      },
      "outputs": [],
      "source": [
        "# ➕ Modify List\n",
        "my_list.append(60)\n",
        "my_list.remove(30)\n",
        "print(my_list)"
      ]
    },
    {
      "cell_type": "code",
      "execution_count": null,
      "id": "55eff36d",
      "metadata": {
        "id": "55eff36d"
      },
      "outputs": [],
      "source": [
        "# 🔁 Loop Through List\n",
        "for item in my_list:\n",
        "    print(item)"
      ]
    },
    {
      "cell_type": "markdown",
      "id": "efa1162a",
      "metadata": {
        "id": "efa1162a"
      },
      "source": [
        "## ✏️ Your Turn\n",
        "Create your own list of 5 favorite movies and sort them alphabetically."
      ]
    },
    {
      "cell_type": "code",
      "source": [
        "favorite_movies = [\"Eternal Sunshine of the Spotless Mind\", \"The Incredibles\", \"Megamind\", \"Interstellar\", \"Spiderman 2\"]\n",
        "favorite_movies.sort()\n",
        "print(favorite_movies)"
      ],
      "metadata": {
        "id": "mxZ_FRlkC2t1",
        "outputId": "37848e89-ecad-4d37-d7b1-617d70d3cd53",
        "colab": {
          "base_uri": "https://localhost:8080/"
        }
      },
      "id": "mxZ_FRlkC2t1",
      "execution_count": 3,
      "outputs": [
        {
          "output_type": "stream",
          "name": "stdout",
          "text": [
            "['Eternal Sunshine of the Spotless Mind', 'Interstellar', 'Megamind', 'Spiderman 2', 'The Incredibles']\n"
          ]
        }
      ]
    }
  ],
  "metadata": {
    "colab": {
      "provenance": []
    },
    "language_info": {
      "name": "python"
    },
    "kernelspec": {
      "name": "python3",
      "display_name": "Python 3"
    }
  },
  "nbformat": 4,
  "nbformat_minor": 5
}