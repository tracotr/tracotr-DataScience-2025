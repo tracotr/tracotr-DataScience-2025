{
 "cells": [
  {
   "cell_type": "markdown",
   "id": "d0fe0fb4",
   "metadata": {},
   "source": [
    "# 📘 02 - While Loops\n",
    "\n",
    "Learn how to repeat logic using conditions."
   ]
  },
  {
   "cell_type": "markdown",
   "id": "72469f87",
   "metadata": {},
   "source": [
    "## ✅ Learning Goals\n",
    "- Use `while` with a condition\n",
    "- Understand infinite loops and loop control"
   ]
  },
  {
   "cell_type": "code",
   "execution_count": 3,
   "id": "a73a22aa",
   "metadata": {},
   "outputs": [
    {
     "name": "stdout",
     "output_type": "stream",
     "text": [
      "Count: 1\n",
      "Count: 2\n",
      "Count: 3\n",
      "Count: 4\n",
      "Count: 5\n"
     ]
    }
   ],
   "source": [
    "# 🔁 Count up to 5\n",
    "counter = 1\n",
    "while counter <= 5:\n",
    "    print('Count:', counter)\n",
    "    counter += 1"
   ]
  },
  {
   "cell_type": "code",
   "execution_count": 2,
   "id": "f219e7e8",
   "metadata": {},
   "outputs": [
    {
     "name": "stdout",
     "output_type": "stream",
     "text": [
      "x is 0\n",
      "x is 1\n",
      "x is 2\n"
     ]
    }
   ],
   "source": [
    "# 🚫 Avoid infinite loop\n",
    "x = 0\n",
    "while x < 3:\n",
    "    print('x is', x)\n",
    "    x += 1"
   ]
  },
  {
   "cell_type": "code",
   "execution_count": 1,
   "id": "c4b457cd",
   "metadata": {},
   "outputs": [
    {
     "name": "stdout",
     "output_type": "stream",
     "text": [
      "1\n",
      "2\n",
      "4\n",
      "5\n"
     ]
    }
   ],
   "source": [
    "# ⚠️ Break and continue\n",
    "n = 0\n",
    "while True:\n",
    "    n += 1\n",
    "    if n == 3:\n",
    "        continue\n",
    "    if n == 6:\n",
    "        break\n",
    "    print(n)"
   ]
  },
  {
   "cell_type": "markdown",
   "id": "f238b0da",
   "metadata": {},
   "source": [
    "### ✏️ Your Turn\n",
    "Use a while loop to print numbers 10 to 1 in reverse."
   ]
  },
  {
   "cell_type": "code",
   "execution_count": 5,
   "id": "5b473f03",
   "metadata": {},
   "outputs": [
    {
     "name": "stdout",
     "output_type": "stream",
     "text": [
      "10\n",
      "9\n",
      "8\n",
      "7\n",
      "6\n",
      "5\n",
      "4\n",
      "3\n",
      "2\n",
      "1\n"
     ]
    }
   ],
   "source": [
    "num = 10\n",
    "while(num > 0):\n",
    "    print(num)\n",
    "    num -= 1"
   ]
  }
 ],
 "metadata": {
  "kernelspec": {
   "display_name": "Python 3",
   "language": "python",
   "name": "python3"
  },
  "language_info": {
   "codemirror_mode": {
    "name": "ipython",
    "version": 3
   },
   "file_extension": ".py",
   "mimetype": "text/x-python",
   "name": "python",
   "nbconvert_exporter": "python",
   "pygments_lexer": "ipython3",
   "version": "3.12.8"
  }
 },
 "nbformat": 4,
 "nbformat_minor": 5
}
