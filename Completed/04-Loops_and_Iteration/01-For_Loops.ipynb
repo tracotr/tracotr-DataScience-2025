{
 "cells": [
  {
   "cell_type": "markdown",
   "id": "813b2cf5",
   "metadata": {},
   "source": [
    "# 📘 01 - For Loops\n",
    "\n",
    "Learn how to use `for` loops to iterate over sequences."
   ]
  },
  {
   "cell_type": "markdown",
   "id": "f6afd4b0",
   "metadata": {},
   "source": [
    "## ✅ Learning Goals\n",
    "- Use `for` with lists, strings, and `range()`\n",
    "- Understand loop variables and block structure"
   ]
  },
  {
   "cell_type": "code",
   "execution_count": 2,
   "id": "16d9ab8e",
   "metadata": {},
   "outputs": [
    {
     "name": "stdout",
     "output_type": "stream",
     "text": [
      "apple\n",
      "banana\n",
      "cherry\n"
     ]
    }
   ],
   "source": [
    "# 🔁 Loop over a list\n",
    "fruits = ['apple', 'banana', 'cherry']\n",
    "for fruit in fruits:\n",
    "    print(fruit)"
   ]
  },
  {
   "cell_type": "code",
   "execution_count": 1,
   "id": "141bbd6b",
   "metadata": {},
   "outputs": [
    {
     "name": "stdout",
     "output_type": "stream",
     "text": [
      "h\n",
      "e\n",
      "l\n",
      "l\n",
      "o\n"
     ]
    }
   ],
   "source": [
    "# 🔁 Loop over characters in a string\n",
    "word = 'hello'\n",
    "for char in word:\n",
    "    print(char)"
   ]
  },
  {
   "cell_type": "code",
   "execution_count": 3,
   "id": "76012a44",
   "metadata": {},
   "outputs": [
    {
     "name": "stdout",
     "output_type": "stream",
     "text": [
      "0\n",
      "1\n",
      "2\n",
      "3\n",
      "4\n"
     ]
    }
   ],
   "source": [
    "# 🔁 Using range()\n",
    "for i in range(5):\n",
    "    print(i)"
   ]
  },
  {
   "cell_type": "code",
   "execution_count": 4,
   "id": "43070de7",
   "metadata": {},
   "outputs": [
    {
     "name": "stdout",
     "output_type": "stream",
     "text": [
      "1 squared is 1\n",
      "2 squared is 4\n",
      "3 squared is 9\n",
      "4 squared is 16\n",
      "5 squared is 25\n"
     ]
    }
   ],
   "source": [
    "# ➕ Loop with math\n",
    "for i in range(1, 6):\n",
    "    print(f'{i} squared is', i ** 2)"
   ]
  },
  {
   "cell_type": "markdown",
   "id": "7f3e0f91",
   "metadata": {},
   "source": [
    "### ✏️ Your Turn\n",
    "Loop over a list of 3 favorite movies and print them in all caps."
   ]
  },
  {
   "cell_type": "code",
   "execution_count": 5,
   "id": "078b28bb",
   "metadata": {},
   "outputs": [
    {
     "name": "stdout",
     "output_type": "stream",
     "text": [
      "ETERNAL SUNSHINE OF THE SPOTLESS MIND\n",
      "THE INCREDIBLES\n",
      "INTERSTELLAR\n"
     ]
    }
   ],
   "source": [
    "movies = [\"Eternal Sunshine of the Spotless Mind\", \"The Incredibles\", \"Interstellar\"]\n",
    "\n",
    "for movie in movies:\n",
    "    print(movie.upper())"
   ]
  }
 ],
 "metadata": {
  "kernelspec": {
   "display_name": "Python 3",
   "language": "python",
   "name": "python3"
  },
  "language_info": {
   "codemirror_mode": {
    "name": "ipython",
    "version": 3
   },
   "file_extension": ".py",
   "mimetype": "text/x-python",
   "name": "python",
   "nbconvert_exporter": "python",
   "pygments_lexer": "ipython3",
   "version": "3.12.8"
  }
 },
 "nbformat": 4,
 "nbformat_minor": 5
}
