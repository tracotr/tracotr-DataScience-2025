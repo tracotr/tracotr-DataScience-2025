{
 "cells": [
  {
   "cell_type": "markdown",
   "id": "47f2636f",
   "metadata": {},
   "source": [
    "# 📘 01 - Python Lists\n",
    "\n",
    "Explore how to use lists to store and manipulate data."
   ]
  },
  {
   "cell_type": "markdown",
   "id": "d5e389b6",
   "metadata": {},
   "source": [
    "## ✅ Learning Goals\n",
    "- Create and modify Python lists\n",
    "- Access elements using indexing\n",
    "- Use list methods like `append()`, `remove()`, and `sort()`"
   ]
  },
  {
   "cell_type": "code",
   "execution_count": null,
   "id": "9244ef55",
   "metadata": {},
   "outputs": [],
   "source": [
    "# 🔧 Create a List\n",
    "my_list = [10, 20, 30, 40, 50]\n",
    "print(my_list)"
   ]
  },
  {
   "cell_type": "code",
   "execution_count": null,
   "id": "e767a048",
   "metadata": {},
   "outputs": [],
   "source": [
    "# 🎯 Access Elements\n",
    "print('First item:', my_list[0])\n",
    "print('Last item:', my_list[-1])"
   ]
  },
  {
   "cell_type": "code",
   "execution_count": null,
   "id": "4d9b40bd",
   "metadata": {},
   "outputs": [],
   "source": [
    "# ➕ Modify List\n",
    "my_list.append(60)\n",
    "my_list.remove(30)\n",
    "print(my_list)"
   ]
  },
  {
   "cell_type": "code",
   "execution_count": null,
   "id": "55eff36d",
   "metadata": {},
   "outputs": [],
   "source": [
    "# 🔁 Loop Through List\n",
    "for item in my_list:\n",
    "    print(item)"
   ]
  },
  {
   "cell_type": "markdown",
   "id": "efa1162a",
   "metadata": {},
   "source": [
    "## ✏️ Your Turn\n",
    "Create your own list of 5 favorite movies and sort them alphabetically."
   ]
  }
 ],
 "metadata": {},
 "nbformat": 4,
 "nbformat_minor": 5
}