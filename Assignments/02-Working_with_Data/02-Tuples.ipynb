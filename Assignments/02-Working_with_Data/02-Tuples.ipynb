{
 "cells": [
  {
   "cell_type": "markdown",
   "id": "4fc4e076",
   "metadata": {},
   "source": [
    "# 📘 02 - Python Tuples\n",
    "\n",
    "Learn what tuples are and how to use them."
   ]
  },
  {
   "cell_type": "markdown",
   "id": "0ec947dd",
   "metadata": {},
   "source": [
    "## ✅ Learning Goals\n",
    "- Create and access tuples\n",
    "- Understand immutability\n",
    "- Use tuple unpacking"
   ]
  },
  {
   "cell_type": "code",
   "execution_count": null,
   "id": "467cf803",
   "metadata": {},
   "outputs": [],
   "source": [
    "# 🔧 Create a Tuple\n",
    "coords = (5, 10)\n",
    "print(coords)"
   ]
  },
  {
   "cell_type": "code",
   "execution_count": null,
   "id": "13b643c4",
   "metadata": {},
   "outputs": [],
   "source": [
    "# 🔍 Indexing\n",
    "print('X:', coords[0])\n",
    "print('Y:', coords[1])"
   ]
  },
  {
   "cell_type": "code",
   "execution_count": null,
   "id": "2c780aea",
   "metadata": {},
   "outputs": [],
   "source": [
    "# 🔁 Tuple Unpacking\n",
    "x, y = coords\n",
    "print('x + y =', x + y)"
   ]
  },
  {
   "cell_type": "markdown",
   "id": "3a71407c",
   "metadata": {},
   "source": [
    "## 🚫 Tuples are immutable\n",
    "Try uncommenting the line below to see what happens:\n",
    "```python\n",
    "# coords[0] = 100\n",
    "```"
   ]
  },
  {
   "cell_type": "markdown",
   "id": "853762bc",
   "metadata": {},
   "source": [
    "## ✏️ Your Turn\n",
    "Create a tuple to store your birthday as `(month, day, year)`."
   ]
  }
 ],
 "metadata": {},
 "nbformat": 4,
 "nbformat_minor": 5
}