{
 "cells": [
  {
   "cell_type": "markdown",
   "id": "4b15b08b",
   "metadata": {},
   "source": [
    "# 📘 03 - Data Types and Arithmetic\n",
    "\n",
    "Explore Python basics like variables, data types, and arithmetic operations."
   ]
  },
  {
   "cell_type": "markdown",
   "id": "fe930277",
   "metadata": {},
   "source": [
    "## ✅ Learning Goals\n",
    "- Understand Python data types\n",
    "- Use variables and print statements\n",
    "- Perform basic arithmetic"
   ]
  },
  {
   "cell_type": "code",
   "execution_count": null,
   "id": "8e873f5b",
   "metadata": {},
   "outputs": [],
   "source": [
    "# 🧠 Variables and Types\n",
    "x = 10\n",
    "y = 3.5\n",
    "z = 'hello'\n",
    "print(type(x), type(y), type(z))"
   ]
  },
  {
   "cell_type": "code",
   "execution_count": null,
   "id": "e90e2be4",
   "metadata": {},
   "outputs": [],
   "source": [
    "# ➕ Arithmetic Operations\n",
    "print('Add:', x + y)\n",
    "print('Divide:', x / y)\n",
    "print('Floor Divide:', x // y)\n",
    "print('Exponent:', x ** 2)"
   ]
  },
  {
   "cell_type": "markdown",
   "id": "7e233e07",
   "metadata": {},
   "source": [
    "## ✏️ Try It Yourself\n",
    "- Create your own variables\n",
    "- Try combining numbers and strings\n",
    "- Use `input()` to interact"
   ]
  },
  {
   "cell_type": "code",
   "execution_count": null,
   "id": "42b3fc61",
   "metadata": {},
   "outputs": [],
   "source": [
    "# Your code here\n",
    "name = input('What is your name? ')\n",
    "print('Welcome,', name)"
   ]
  },
  {
   "cell_type": "markdown",
   "id": "069d6eba",
   "metadata": {},
   "source": [
    "## 📤 Submit\n",
    "Make sure your name is at the top in a Markdown cell.\n",
    "Submit via D2L or Colab link."
   ]
  }
 ],
 "metadata": {},
 "nbformat": 4,
 "nbformat_minor": 5
}