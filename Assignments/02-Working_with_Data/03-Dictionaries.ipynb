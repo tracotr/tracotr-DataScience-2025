{
 "cells": [
  {
   "cell_type": "markdown",
   "id": "ba110f51",
   "metadata": {},
   "source": [
    "# 📘 03 - Python Dictionaries\n",
    "\n",
    "Dictionaries store key-value pairs for fast lookups."
   ]
  },
  {
   "cell_type": "markdown",
   "id": "32ad5c23",
   "metadata": {},
   "source": [
    "## ✅ Learning Goals\n",
    "- Create and access dictionary items\n",
    "- Use dictionary methods like `.get()` and `.items()`"
   ]
  },
  {
   "cell_type": "code",
   "execution_count": null,
   "id": "d69a5483",
   "metadata": {},
   "outputs": [],
   "source": [
    "# 📚 Create a Dictionary\n",
    "student = {'name': 'Alex', 'age': 21, 'major': 'CS'}\n",
    "print(student)"
   ]
  },
  {
   "cell_type": "code",
   "execution_count": null,
   "id": "c014213d",
   "metadata": {},
   "outputs": [],
   "source": [
    "# 🔍 Access Values\n",
    "print(student['name'])\n",
    "print(student.get('gpa', 'N/A'))"
   ]
  },
  {
   "cell_type": "code",
   "execution_count": null,
   "id": "f80fb0b2",
   "metadata": {},
   "outputs": [],
   "source": [
    "# 🔁 Loop Over Dictionary\n",
    "for key, value in student.items():\n",
    "    print(key, '->', value)"
   ]
  },
  {
   "cell_type": "markdown",
   "id": "aa0e1c66",
   "metadata": {},
   "source": [
    "## ✏️ Your Turn\n",
    "Create a dictionary to store information about your favorite book."
   ]
  }
 ],
 "metadata": {},
 "nbformat": 4,
 "nbformat_minor": 5
}