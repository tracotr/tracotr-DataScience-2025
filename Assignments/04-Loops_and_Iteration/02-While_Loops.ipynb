{
 "cells": [
  {
   "cell_type": "markdown",
   "id": "d0fe0fb4",
   "metadata": {},
   "source": [
    "# 📘 02 - While Loops\n",
    "\n",
    "Learn how to repeat logic using conditions."
   ]
  },
  {
   "cell_type": "markdown",
   "id": "72469f87",
   "metadata": {},
   "source": [
    "## ✅ Learning Goals\n",
    "- Use `while` with a condition\n",
    "- Understand infinite loops and loop control"
   ]
  },
  {
   "cell_type": "code",
   "execution_count": null,
   "id": "a73a22aa",
   "metadata": {},
   "outputs": [],
   "source": [
    "# 🔁 Count up to 5\n",
    "counter = 1\n",
    "while counter <= 5:\n",
    "    print('Count:', counter)\n",
    "    counter += 1"
   ]
  },
  {
   "cell_type": "code",
   "execution_count": null,
   "id": "f219e7e8",
   "metadata": {},
   "outputs": [],
   "source": [
    "# 🚫 Avoid infinite loop\n",
    "x = 0\n",
    "while x < 3:\n",
    "    print('x is', x)\n",
    "    x += 1"
   ]
  },
  {
   "cell_type": "code",
   "execution_count": null,
   "id": "c4b457cd",
   "metadata": {},
   "outputs": [],
   "source": [
    "# ⚠️ Break and continue\n",
    "n = 0\n",
    "while True:\n",
    "    n += 1\n",
    "    if n == 3:\n",
    "        continue\n",
    "    if n == 6:\n",
    "        break\n",
    "    print(n)"
   ]
  },
  {
   "cell_type": "markdown",
   "id": "f238b0da",
   "metadata": {},
   "source": [
    "### ✏️ Your Turn\n",
    "Use a while loop to print numbers 10 to 1 in reverse."
   ]
  }
 ],
 "metadata": {},
 "nbformat": 4,
 "nbformat_minor": 5
}