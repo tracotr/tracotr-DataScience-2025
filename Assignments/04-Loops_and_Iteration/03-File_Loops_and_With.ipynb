{
 "cells": [
  {
   "cell_type": "markdown",
   "id": "2843d4ba",
   "metadata": {},
   "source": [
    "# 📘 03 - File Loops and `with`\n",
    "\n",
    "Use `with open(...)` to read files and process content."
   ]
  },
  {
   "cell_type": "markdown",
   "id": "4d270565",
   "metadata": {},
   "source": [
    "## ✅ Learning Goals\n",
    "- Open and read files using `with`\n",
    "- Loop over lines in a file\n",
    "- Use `.strip()` and `.split()` to process text"
   ]
  },
  {
   "cell_type": "code",
   "execution_count": null,
   "id": "4ac4df0a",
   "metadata": {},
   "outputs": [],
   "source": [
    "# 📝 Sample file read\n",
    "with open('sample.txt', 'r') as file:\n",
    "    for line in file:\n",
    "        print(line.strip())"
   ]
  },
  {
   "cell_type": "code",
   "execution_count": null,
   "id": "4f430e6d",
   "metadata": {},
   "outputs": [],
   "source": [
    "# 🔍 Process each line\n",
    "with open('sample.txt', 'r') as f:\n",
    "    for line in f:\n",
    "        parts = line.strip().split(',')\n",
    "        print('Parts:', parts)"
   ]
  },
  {
   "cell_type": "markdown",
   "id": "c5f556e4",
   "metadata": {},
   "source": [
    "### ✏️ Your Turn\n",
    "Open a text file and print all lines that contain more than 3 words."
   ]
  },
  {
   "cell_type": "code",
   "execution_count": null,
   "id": "0c72a05f",
   "metadata": {},
   "outputs": [],
   "source": [
    "# Tip: use `len(line.split()) > 3` to check"
   ]
  }
 ],
 "metadata": {},
 "nbformat": 4,
 "nbformat_minor": 5
}