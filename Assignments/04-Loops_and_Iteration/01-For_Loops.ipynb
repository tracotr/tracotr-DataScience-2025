{
 "cells": [
  {
   "cell_type": "markdown",
   "id": "813b2cf5",
   "metadata": {},
   "source": [
    "# 📘 01 - For Loops\n",
    "\n",
    "Learn how to use `for` loops to iterate over sequences."
   ]
  },
  {
   "cell_type": "markdown",
   "id": "f6afd4b0",
   "metadata": {},
   "source": [
    "## ✅ Learning Goals\n",
    "- Use `for` with lists, strings, and `range()`\n",
    "- Understand loop variables and block structure"
   ]
  },
  {
   "cell_type": "code",
   "execution_count": null,
   "id": "16d9ab8e",
   "metadata": {},
   "outputs": [],
   "source": [
    "# 🔁 Loop over a list\n",
    "fruits = ['apple', 'banana', 'cherry']\n",
    "for fruit in fruits:\n",
    "    print(fruit)"
   ]
  },
  {
   "cell_type": "code",
   "execution_count": null,
   "id": "141bbd6b",
   "metadata": {},
   "outputs": [],
   "source": [
    "# 🔁 Loop over characters in a string\n",
    "word = 'hello'\n",
    "for char in word:\n",
    "    print(char)"
   ]
  },
  {
   "cell_type": "code",
   "execution_count": null,
   "id": "76012a44",
   "metadata": {},
   "outputs": [],
   "source": [
    "# 🔁 Using range()\n",
    "for i in range(5):\n",
    "    print(i)"
   ]
  },
  {
   "cell_type": "code",
   "execution_count": null,
   "id": "43070de7",
   "metadata": {},
   "outputs": [],
   "source": [
    "# ➕ Loop with math\n",
    "for i in range(1, 6):\n",
    "    print(f'{i} squared is', i ** 2)"
   ]
  },
  {
   "cell_type": "markdown",
   "id": "7f3e0f91",
   "metadata": {},
   "source": [
    "### ✏️ Your Turn\n",
    "Loop over a list of 3 favorite movies and print them in all caps."
   ]
  }
 ],
 "metadata": {},
 "nbformat": 4,
 "nbformat_minor": 5
}