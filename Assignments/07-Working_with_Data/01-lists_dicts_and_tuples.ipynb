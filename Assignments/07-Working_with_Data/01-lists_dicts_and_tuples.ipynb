{
 "cells": [
  {
   "cell_type": "markdown",
   "metadata": {},
   "source": [
    "# 🧠 Notebook 01: Lists, Dicts, and Tuples (Oh My!)\n",
    "\n",
    "Welcome, data tamer. Before we dance with DataFrames and juggle Series, we must first revisit the sacred scrolls of core Python data structures.\n",
    "\n",
    "In this notebook, you will:\n",
    "\n",
    "- Recap the mighty `list`, `dict`, `tuple`, and `set`\n",
    "- Learn what makes each special (besides being annoying to explain at parties)\n",
    "- Practice manipulating them with slicing, iteration, and comprehension\n",
    "- Build a mini dataset *by hand* to appreciate the beauty of Pandas later\n",
    "\n",
    "Let’s begin."
   ]
  },
  {
   "cell_type": "code",
   "execution_count": null,
   "metadata": {},
   "outputs": [],
   "source": [
    "# Lists: the Swiss Army Knife of Python\n",
    "students = [\"Alice\", \"Bob\", \"Charlie\", \"Diana\"]\n",
    "print(\"First student:\", students[0])"
   ]
  },
  {
   "cell_type": "markdown",
   "metadata": {},
   "source": [
    "## 🧰 Tasks\n",
    "\n",
    "1. Create a list of your top 5 favorite foods. Print the last item using a negative index.\n",
    "2. Create a dictionary that maps student names to GPA (be kind). Add a new student.\n",
    "3. Make a tuple of the days of the week. Try to change one. Document what happens.\n",
    "4. Create a `set` of course names. Add a duplicate. Reflect on how sets feel about duplicates.\n",
    "\n",
    "🎯 Bonus: Use a list comprehension to build a list of all squares from 1–20."
   ]
  },
  {
   "cell_type": "code",
   "execution_count": null,
   "metadata": {},
   "outputs": [],
   "source": [
    "# Your brilliant code goes here!"
   ]
  },
  {
   "cell_type": "markdown",
   "metadata": {},
   "source": [
    "---\n",
    "## 🧼 Why This Matters\n",
    "\n",
    "Before we start feeding `.csv` files into Pandas like a malfunctioning vending machine, we need to truly *feel* how data is structured. Python gives us these core data types to help shape, store, and manipulate data manually.\n",
    "\n",
    "You’ll thank yourself later. Or at least complain less. Maybe."
   ]
  }
 ],
 "metadata": {
  "kernelspec": {
   "display_name": "Python 3",
   "language": "python",
   "name": "python3"
  },
  "language_info": {
   "name": "python",
   "version": ""
  }
 },
 "nbformat": 4,
 "nbformat_minor": 2
}
