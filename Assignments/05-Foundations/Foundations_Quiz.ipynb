{
  "cells": [
    {
      "cell_type": "markdown",
      "metadata": {},
      "source": [
        "# \ud83d\udcdd Foundations Quiz\n",
        "\n",
        "This quiz covers material from the **Foundations** notebooks (01\u201308).  \n",
        "Answer each question in the provided cell. Some questions require code, others are written answers.\n"
      ]
    },
    {
      "cell_type": "markdown",
      "metadata": {},
      "source": [
        "## Q1. Magics\nWhat does `%whos` display? Write your answer below."
      ]
    },
    {
      "cell_type": "markdown",
      "metadata": {},
      "source": [
        "*Your Answer:*"
      ]
    },
    {
      "cell_type": "markdown",
      "metadata": {},
      "source": [
        "## Q2. Markdown\nCreate a Markdown cell with a heading `## My Hobbies` and a bullet list of at least 3 hobbies."
      ]
    },
    {
      "cell_type": "markdown",
      "metadata": {},
      "source": [
        "*Your Answer:*"
      ]
    },
    {
      "cell_type": "markdown",
      "metadata": {},
      "source": [
        "## Q3. Files and Paths\nUse `%pwd` to print your current working directory."
      ]
    },
    {
      "cell_type": "code",
      "execution_count": null,
      "metadata": {},
      "outputs": [],
      "source": []
    },
    {
      "cell_type": "markdown",
      "metadata": {},
      "source": [
        "## Q4. File I/O\nWrite Python code that saves `Hello World` to a file called `hello.txt`, then reads it back and prints the contents."
      ]
    },
    {
      "cell_type": "code",
      "execution_count": null,
      "metadata": {},
      "outputs": [],
      "source": []
    },
    {
      "cell_type": "markdown",
      "metadata": {},
      "source": [
        "## Q5. Data I/O\nLoad the file `students.csv` (or create a small CSV yourself) with Pandas and show the first 5 rows."
      ]
    },
    {
      "cell_type": "code",
      "execution_count": null,
      "metadata": {},
      "outputs": [],
      "source": []
    },
    {
      "cell_type": "markdown",
      "metadata": {},
      "source": [
        "## Q6. Plotting\nCreate a line plot of $y = x^2$ for $x$ values from 0 to 10."
      ]
    },
    {
      "cell_type": "code",
      "execution_count": null,
      "metadata": {},
      "outputs": [],
      "source": []
    },
    {
      "cell_type": "markdown",
      "metadata": {},
      "source": [
        "## Q7. Shortcuts\nIn Command mode, what keyboard shortcut deletes a cell?"
      ]
    },
    {
      "cell_type": "markdown",
      "metadata": {},
      "source": [
        "*Your Answer:*"
      ]
    },
    {
      "cell_type": "markdown",
      "metadata": {},
      "source": [
        "## Q8. Help and Docs\nUse `?` to display the docstring for `len`. Show the result."
      ]
    },
    {
      "cell_type": "code",
      "execution_count": null,
      "metadata": {},
      "outputs": [],
      "source": []
    },
    {
      "cell_type": "markdown",
      "metadata": {},
      "source": [
        "## Q9. Timing\nCompare the runtime of squaring numbers using a Python loop vs. NumPy. Use `%timeit` for each."
      ]
    },
    {
      "cell_type": "code",
      "execution_count": null,
      "metadata": {},
      "outputs": [],
      "source": []
    },
    {
      "cell_type": "markdown",
      "metadata": {},
      "source": [
        "## Q10. Reflection\nWhy is it useful to mix Markdown and code in Jupyter notebooks? Write 2\u20133 sentences."
      ]
    },
    {
      "cell_type": "markdown",
      "metadata": {},
      "source": [
        "*Your Answer:*"
      ]
    }
  ],
  "metadata": {
    "kernelspec": {
      "display_name": "Python 3",
      "language": "python",
      "name": "python3"
    },
    "language_info": {
      "name": "python",
      "version": "3.x"
    }
  },
  "nbformat": 4,
  "nbformat_minor": 5
}