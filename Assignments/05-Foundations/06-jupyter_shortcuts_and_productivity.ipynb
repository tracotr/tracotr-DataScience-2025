{
  "cells": [
    {
      "cell_type": "markdown",
      "metadata": {},
      "source": [
        "# \u26a1 06 - Jupyter Shortcuts and Productivity\n",
        "\n",
        "Jupyter notebooks have **keyboard shortcuts and tricks** that make you faster.  \n",
        "In this notebook you will learn:\n",
        "- Command vs. Edit mode\n",
        "- Essential keyboard shortcuts\n",
        "- Saving and exporting notebooks\n",
        "- Using `%history` and `%save`\n"
      ]
    },
    {
      "cell_type": "markdown",
      "metadata": {},
      "source": [
        "## 1. Modes in Jupyter"
      ]
    },
    {
      "cell_type": "markdown",
      "metadata": {},
      "source": [
        "- **Edit mode** (green border, type in cell)\n",
        "- **Command mode** (blue border, issue commands on the notebook)\n",
        "\n",
        "Switch:\n",
        "- Press `Enter` \u2192 Edit mode\n",
        "- Press `Esc` \u2192 Command mode"
      ]
    },
    {
      "cell_type": "markdown",
      "metadata": {},
      "source": [
        "\u2705 **Your Turn**: Try switching between Edit and Command mode and notice the border color."
      ]
    },
    {
      "cell_type": "markdown",
      "metadata": {},
      "source": [
        "## 2. Common Shortcuts"
      ]
    },
    {
      "cell_type": "markdown",
      "metadata": {},
      "source": [
        "- `A` \u2192 Insert cell Above\n",
        "- `B` \u2192 Insert cell Below\n",
        "- `D D` \u2192 Delete a cell\n",
        "- `M` \u2192 Change to Markdown cell\n",
        "- `Y` \u2192 Change to Code cell\n",
        "- `Shift + Enter` \u2192 Run cell and move to next\n",
        "- `Ctrl + Enter` \u2192 Run cell, stay put\n",
        "- `Alt + Enter` \u2192 Run cell and insert new one below"
      ]
    },
    {
      "cell_type": "markdown",
      "metadata": {},
      "source": [
        "\u2705 **Your Turn**: Practice creating, deleting, and changing cell types using only shortcuts."
      ]
    },
    {
      "cell_type": "markdown",
      "metadata": {},
      "source": [
        "## 3. Saving and Exporting"
      ]
    },
    {
      "cell_type": "markdown",
      "metadata": {},
      "source": [
        "- `Ctrl + S` (or `Cmd + S` on Mac) \u2192 Save notebook\n",
        "- Menu: *File \u2192 Download as\u2026* \u2192 export to `.py`, `.html`, or `.pdf`\n",
        "- GitHub + Colab workflow: commit changes back to your repo directly"
      ]
    },
    {
      "cell_type": "markdown",
      "metadata": {},
      "source": [
        "\u2705 **Your Turn**: Save this notebook, then try exporting to `.py` or `.html` from the File menu."
      ]
    },
    {
      "cell_type": "markdown",
      "metadata": {},
      "source": [
        "## 4. History and Saving Code"
      ]
    },
    {
      "cell_type": "code",
      "execution_count": null,
      "metadata": {},
      "outputs": [],
      "source": [
        "%history -n 1-5  # Show the first 5 commands in this session"
      ]
    },
    {
      "cell_type": "code",
      "execution_count": null,
      "metadata": {},
      "outputs": [],
      "source": [
        "# Save history to a file\n",
        "%save my_session.py 1-5"
      ]
    },
    {
      "cell_type": "markdown",
      "metadata": {},
      "source": [
        "\u2705 **Your Turn**: Use `%history` to view the last 10 commands you ran, then save them to `last10.py`."
      ]
    },
    {
      "cell_type": "markdown",
      "metadata": {},
      "source": [
        "---\n",
        "### Summary\n",
        "- Command vs Edit mode controls how you interact with cells.\n",
        "- Shortcuts make notebook use much faster.\n",
        "- You can export notebooks to share or turn them into scripts.\n",
        "- `%history` and `%save` help you capture your work.\n"
      ]
    }
  ],
  "metadata": {
    "kernelspec": {
      "display_name": "Python 3",
      "language": "python",
      "name": "python3"
    },
    "language_info": {
      "name": "python",
      "version": "3.x"
    }
  },
  "nbformat": 4,
  "nbformat_minor": 5
}