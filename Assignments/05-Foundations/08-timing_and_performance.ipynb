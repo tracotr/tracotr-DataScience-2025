{
  "cells": [
    {
      "cell_type": "markdown",
      "metadata": {},
      "source": [
        "# \u23f1\ufe0f 08 - Timing and Performance\n",
        "\n",
        "In data science, performance matters. Some code runs fast, some slow.  \n",
        "Jupyter/IPython gives us tools to measure runtime easily.\n",
        "\n",
        "In this notebook you will learn:\n",
        "- `%time` and `%timeit` for single expressions\n",
        "- `%%time` and `%%timeit` for entire cells\n",
        "- Comparing loops, list comprehensions, and NumPy\n",
        "- Why performance awareness is important\n"
      ]
    },
    {
      "cell_type": "markdown",
      "metadata": {},
      "source": [
        "## 1. `%time`"
      ]
    },
    {
      "cell_type": "code",
      "execution_count": null,
      "metadata": {},
      "outputs": [],
      "source": [
        "%time sum(range(1_000_000))"
      ]
    },
    {
      "cell_type": "markdown",
      "metadata": {},
      "source": [
        "\u2705 **Your Turn**: Use `%time` to measure how long it takes to sort a list of 1 million random numbers."
      ]
    },
    {
      "cell_type": "markdown",
      "metadata": {},
      "source": [
        "## 2. `%timeit`"
      ]
    },
    {
      "cell_type": "code",
      "execution_count": null,
      "metadata": {},
      "outputs": [],
      "source": [
        "numbers = list(range(1_000))\n",
        "%timeit [x**2 for x in numbers]"
      ]
    },
    {
      "cell_type": "markdown",
      "metadata": {},
      "source": [
        "\u2705 **Your Turn**: Compare `%timeit` results for a list comprehension vs. a `for` loop that builds the same list."
      ]
    },
    {
      "cell_type": "markdown",
      "metadata": {},
      "source": [
        "## 3. `%%time` for a Whole Cell"
      ]
    },
    {
      "cell_type": "code",
      "execution_count": null,
      "metadata": {},
      "outputs": [],
      "source": [
        "%%time\n",
        "total = 0\n",
        "for i in range(1_000_000):\n",
        "    total += i\n",
        "total"
      ]
    },
    {
      "cell_type": "markdown",
      "metadata": {},
      "source": [
        "\u2705 **Your Turn**: Wrap a longer multi-line operation with `%%time` to measure its runtime."
      ]
    },
    {
      "cell_type": "markdown",
      "metadata": {},
      "source": [
        "## 4. Comparing Loops vs. NumPy"
      ]
    },
    {
      "cell_type": "code",
      "execution_count": null,
      "metadata": {},
      "outputs": [],
      "source": [
        "import numpy as np\n",
        "\n",
        "numbers = np.arange(1_000_000)\n",
        "\n",
        "# Python loop\n",
        "%timeit [x**2 for x in numbers]\n",
        "\n",
        "# NumPy vectorized\n",
        "%timeit numbers**2"
      ]
    },
    {
      "cell_type": "markdown",
      "metadata": {},
      "source": [
        "\u2705 **Your Turn**: Try squaring numbers with a Python loop, list comprehension, and NumPy array. Compare times."
      ]
    },
    {
      "cell_type": "markdown",
      "metadata": {},
      "source": [
        "## 5. Why This Matters\n",
        "- Performance differences become huge with large datasets.\n",
        "- Vectorized operations (like NumPy, Pandas) are usually faster.\n",
        "- `%timeit` is your friend when deciding how to implement something.\n"
      ]
    },
    {
      "cell_type": "markdown",
      "metadata": {},
      "source": [
        "---\n",
        "### Summary\n",
        "- `%time` and `%timeit` measure execution speed.\n",
        "- `%%time` and `%%timeit` work on whole cells.\n",
        "- Loops are slower than list comprehensions, which are slower than NumPy.\n",
        "- Always measure performance before optimizing.\n"
      ]
    }
  ],
  "metadata": {
    "kernelspec": {
      "display_name": "Python 3",
      "language": "python",
      "name": "python3"
    },
    "language_info": {
      "name": "python",
      "version": "3.x"
    }
  },
  "nbformat": 4,
  "nbformat_minor": 5
}