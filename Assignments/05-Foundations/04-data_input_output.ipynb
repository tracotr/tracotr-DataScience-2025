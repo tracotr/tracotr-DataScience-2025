{
  "cells": [
    {
      "cell_type": "markdown",
      "metadata": {},
      "source": [
        "# \ud83d\udcca 04 - Data Input and Output\n",
        "\n",
        "Most of data science is about **loading data, exploring it, and saving results**.  \n",
        "In this notebook you will learn:\n",
        "- Reading CSV files with Pandas\n",
        "- Inspecting DataFrames (`head`, `info`, `describe`)\n",
        "- Writing data back to CSV\n",
        "- Reading Excel files (if available)\n"
      ]
    },
    {
      "cell_type": "markdown",
      "metadata": {},
      "source": [
        "## 1. Reading CSV Files"
      ]
    },
    {
      "cell_type": "code",
      "execution_count": null,
      "metadata": {},
      "outputs": [],
      "source": [
        "import pandas as pd\n",
        "\n",
        "# Create a small CSV for demo\n",
        "data = \"\"\"Name,Age,Score\n",
        "Alice,23,90\n",
        "Bob,25,85\n",
        "Charlie,22,95\n",
        "\"\"\"\n",
        "with open(\"students.csv\", \"w\") as f:\n",
        "    f.write(data)\n",
        "\n",
        "# Read CSV into DataFrame\n",
        "df = pd.read_csv(\"students.csv\")\n",
        "df"
      ]
    },
    {
      "cell_type": "markdown",
      "metadata": {},
      "source": [
        "\u2705 **Your Turn**: Create your own small CSV (3\u20135 rows) and read it into Pandas."
      ]
    },
    {
      "cell_type": "markdown",
      "metadata": {},
      "source": [
        "## 2. Exploring DataFrames"
      ]
    },
    {
      "cell_type": "code",
      "execution_count": null,
      "metadata": {},
      "outputs": [],
      "source": [
        "# Look at the first rows\n",
        "df.head()"
      ]
    },
    {
      "cell_type": "code",
      "execution_count": null,
      "metadata": {},
      "outputs": [],
      "source": [
        "# Info about columns and data types\n",
        "df.info()"
      ]
    },
    {
      "cell_type": "code",
      "execution_count": null,
      "metadata": {},
      "outputs": [],
      "source": [
        "# Summary statistics\n",
        "df.describe()"
      ]
    },
    {
      "cell_type": "markdown",
      "metadata": {},
      "source": [
        "\u2705 **Your Turn**: Use `.head()` to preview your dataset and `.describe()` to see basic statistics."
      ]
    },
    {
      "cell_type": "markdown",
      "metadata": {},
      "source": [
        "## 3. Writing CSV Files"
      ]
    },
    {
      "cell_type": "code",
      "execution_count": null,
      "metadata": {},
      "outputs": [],
      "source": [
        "# Save the DataFrame to a new CSV\n",
        "df.to_csv(\"students_copy.csv\", index=False)\n",
        "%ls *.csv"
      ]
    },
    {
      "cell_type": "markdown",
      "metadata": {},
      "source": [
        "\u2705 **Your Turn**: Save your DataFrame to a CSV file called `my_data.csv`."
      ]
    },
    {
      "cell_type": "markdown",
      "metadata": {},
      "source": [
        "## 4. Reading Excel Files"
      ]
    },
    {
      "cell_type": "code",
      "execution_count": null,
      "metadata": {},
      "outputs": [],
      "source": [
        "# Optional: Requires 'openpyxl' installed\n",
        "# Save to Excel\n",
        "df.to_excel(\"students.xlsx\", index=False)\n",
        "\n",
        "# Read Excel file\n",
        "pd.read_excel(\"students.xlsx\")"
      ]
    },
    {
      "cell_type": "markdown",
      "metadata": {},
      "source": [
        "\u2705 **Your Turn**: Try saving your dataset to Excel and reading it back (if supported in your environment)."
      ]
    },
    {
      "cell_type": "markdown",
      "metadata": {},
      "source": [
        "---\n",
        "### Summary\n",
        "- `pd.read_csv` loads data into a DataFrame.\n",
        "- Use `.head()`, `.info()`, `.describe()` to explore quickly.\n",
        "- `df.to_csv` and `df.to_excel` save results.\n",
        "- Pandas makes file I/O simple and reliable.\n"
      ]
    }
  ],
  "metadata": {
    "kernelspec": {
      "display_name": "Python 3",
      "language": "python",
      "name": "python3"
    },
    "language_info": {
      "name": "python",
      "version": "3.x"
    }
  },
  "nbformat": 4,
  "nbformat_minor": 5
}