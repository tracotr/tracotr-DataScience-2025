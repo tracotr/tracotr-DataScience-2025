{
  "cells": [
    {
      "cell_type": "markdown",
      "metadata": {},
      "source": [
        "# \ud83d\udcdd 02 - Markdown and Formatting\n",
        "\n",
        "Jupyter notebooks are not just for code \u2014 you can mix **Markdown** and code to create clear, professional-looking reports.\n",
        "\n",
        "This notebook introduces:\n",
        "- Writing Markdown cells (headings, lists, links)\n",
        "- Adding inline **LaTeX math**\n",
        "- Embedding images\n",
        "- Why formatting matters in data science communication\n"
      ]
    },
    {
      "cell_type": "markdown",
      "metadata": {},
      "source": [
        "## 1. Headings and Text Styles"
      ]
    },
    {
      "cell_type": "markdown",
      "metadata": {},
      "source": [
        "### Example\n",
        "# Heading 1\n",
        "## Heading 2\n",
        "### Heading 3\n",
        "\n",
        "**Bold text**, *italic text*, `inline code`"
      ]
    },
    {
      "cell_type": "markdown",
      "metadata": {},
      "source": [
        "\u2705 **Your Turn**: Create a cell with the heading `## My Favorite Data Tools` and list at least three tools in bold."
      ]
    },
    {
      "cell_type": "markdown",
      "metadata": {},
      "source": [
        "## 2. Lists"
      ]
    },
    {
      "cell_type": "markdown",
      "metadata": {},
      "source": [
        "### Example\n",
        "- Item 1\n",
        "- Item 2\n",
        "  - Sub-item 2a\n",
        "  - Sub-item 2b\n",
        "\n",
        "1. First\n",
        "2. Second\n",
        "3. Third"
      ]
    },
    {
      "cell_type": "markdown",
      "metadata": {},
      "source": [
        "\u2705 **Your Turn**: Make an ordered list of your top 3 programming languages."
      ]
    },
    {
      "cell_type": "markdown",
      "metadata": {},
      "source": [
        "## 3. Links and Images"
      ]
    },
    {
      "cell_type": "markdown",
      "metadata": {},
      "source": [
        "### Links\n",
        "[OpenAI](https://www.openai.com)\n",
        "\n",
        "### Images\n",
        "![MSU Logo](https://upload.wikimedia.org/wikipedia/en/8/8b/Midwestern_State_University_seal.png)"
      ]
    },
    {
      "cell_type": "markdown",
      "metadata": {},
      "source": [
        "\u2705 **Your Turn**: Insert a link to your favorite website and embed an image (can be a URL or local file)."
      ]
    },
    {
      "cell_type": "markdown",
      "metadata": {},
      "source": [
        "## 4. LaTeX Math"
      ]
    },
    {
      "cell_type": "markdown",
      "metadata": {},
      "source": [
        "You can render math using LaTeX syntax inside `$ ... $` for inline or `$$ ... $$` for block math.\n",
        "\n",
        "Example:  \n",
        "Inline: $E = mc^2$  \n",
        "Block:\n",
        "$$\n",
        "\\frac{\\partial f}{\\partial x} = 2x\n",
        "$$"
      ]
    },
    {
      "cell_type": "markdown",
      "metadata": {},
      "source": [
        "\u2705 **Your Turn**: Write the quadratic formula in LaTeX."
      ]
    },
    {
      "cell_type": "markdown",
      "metadata": {},
      "source": [
        "## 5. Mixing Code and Markdown"
      ]
    },
    {
      "cell_type": "code",
      "execution_count": null,
      "metadata": {},
      "outputs": [],
      "source": [
        "# Example: create data in Python\n",
        "numbers = [1, 2, 3, 4, 5]\n",
        "squares = [n**2 for n in numbers]\n",
        "squares"
      ]
    },
    {
      "cell_type": "markdown",
      "metadata": {},
      "source": [
        "Now we explain results in Markdown:\n",
        "- The list `numbers` contained 1\u20135.\n",
        "- The list `squares` contains each number squared.\n",
        "- Mixing narrative + results is why notebooks are so powerful."
      ]
    },
    {
      "cell_type": "markdown",
      "metadata": {},
      "source": [
        "\u2705 **Your Turn**: Create a list of 3 numbers, calculate their cubes in code, then explain in Markdown."
      ]
    },
    {
      "cell_type": "markdown",
      "metadata": {},
      "source": [
        "---\n",
        "### Summary\n",
        "- Use headings and formatting to organize.\n",
        "- Lists and links make content readable.\n",
        "- LaTeX lets you add professional math.\n",
        "- Combine code + Markdown for clear data storytelling.\n"
      ]
    }
  ],
  "metadata": {
    "kernelspec": {
      "display_name": "Python 3",
      "language": "python",
      "name": "python3"
    },
    "language_info": {
      "name": "python",
      "version": "3.x"
    }
  },
  "nbformat": 4,
  "nbformat_minor": 5
}