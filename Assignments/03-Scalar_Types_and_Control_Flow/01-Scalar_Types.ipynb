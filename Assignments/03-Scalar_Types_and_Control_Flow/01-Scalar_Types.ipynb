{
 "cells": [
  {
   "cell_type": "markdown",
   "id": "c224876d",
   "metadata": {},
   "source": [
    "# 📘 01 - Scalar Types\n",
    "\n",
    "Review and practice working with Python's basic scalar data types."
   ]
  },
  {
   "cell_type": "markdown",
   "id": "39c1942a",
   "metadata": {},
   "source": [
    "## ✅ Learning Goals\n",
    "- Recognize scalar types (`int`, `float`, `str`, `bool`)\n",
    "- Use the `type()` function to identify types\n",
    "- Use variables and assignment"
   ]
  },
  {
   "cell_type": "code",
   "execution_count": null,
   "id": "0cf15b63",
   "metadata": {},
   "outputs": [],
   "source": [
    "# 🔧 Define some variables\n",
    "num = 42\n",
    "pi = 3.14159\n",
    "name = 'Python'\n",
    "is_cool = True"
   ]
  },
  {
   "cell_type": "code",
   "execution_count": null,
   "id": "7c8e8452",
   "metadata": {},
   "outputs": [],
   "source": [
    "# 🔍 Check their types\n",
    "print(type(num))\n",
    "print(type(pi))\n",
    "print(type(name))\n",
    "print(type(is_cool))"
   ]
  },
  {
   "cell_type": "markdown",
   "id": "2c345a8b",
   "metadata": {},
   "source": [
    "### ✏️ Your Turn\n",
    "Create your own variables of each type and print them."
   ]
  },
  {
   "cell_type": "code",
   "execution_count": null,
   "id": "038b4f44",
   "metadata": {},
   "outputs": [],
   "source": [
    "# Your code here"
   ]
  },
  {
   "cell_type": "markdown",
   "id": "f02be606",
   "metadata": {},
   "source": [
    "## ⚖️ Comparison Practice\n",
    "Use comparison operators to check values."
   ]
  },
  {
   "cell_type": "code",
   "execution_count": null,
   "id": "9bf84dc7",
   "metadata": {},
   "outputs": [],
   "source": [
    "x = 10\n",
    "y = 5\n",
    "print(x > y)\n",
    "print(x == y)\n",
    "print(x != y)"
   ]
  },
  {
   "cell_type": "markdown",
   "id": "789b6f3d",
   "metadata": {},
   "source": [
    "## 🧠 Quick Check\n",
    "What will the following print?\n",
    "```python\n",
    "print(3.0 == 3)\n",
    "```"
   ]
  }
 ],
 "metadata": {},
 "nbformat": 4,
 "nbformat_minor": 5
}