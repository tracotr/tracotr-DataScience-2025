{
 "cells": [
  {
   "cell_type": "markdown",
   "id": "d691fc24",
   "metadata": {},
   "source": [
    "# 📘 02 - Control Flow\n",
    "\n",
    "Learn how to use conditional logic in Python."
   ]
  },
  {
   "cell_type": "markdown",
   "id": "07e43ba3",
   "metadata": {},
   "source": [
    "## ✅ Learning Goals\n",
    "- Write `if`, `elif`, `else` statements\n",
    "- Understand truthy/falsy values\n",
    "- Combine conditions using `and`, `or`, `not`"
   ]
  },
  {
   "cell_type": "code",
   "execution_count": null,
   "id": "3c8cac6d",
   "metadata": {},
   "outputs": [],
   "source": [
    "# 🔧 Basic example\n",
    "age = 20\n",
    "if age >= 18:\n",
    "    print('You are an adult.')\n",
    "else:\n",
    "    print('You are a minor.')"
   ]
  },
  {
   "cell_type": "markdown",
   "id": "ae0d2437",
   "metadata": {},
   "source": [
    "## 🔀 Multiple Branches"
   ]
  },
  {
   "cell_type": "code",
   "execution_count": null,
   "id": "e2527038",
   "metadata": {},
   "outputs": [],
   "source": [
    "temp = 72\n",
    "if temp > 90:\n",
    "    print('Too hot!')\n",
    "elif temp < 60:\n",
    "    print('Too cold!')\n",
    "else:\n",
    "    print('Just right.')"
   ]
  },
  {
   "cell_type": "markdown",
   "id": "b2aa7088",
   "metadata": {},
   "source": [
    "### ✏️ Your Turn\n",
    "Use `input()` to ask a user their grade and print a message based on value."
   ]
  },
  {
   "cell_type": "code",
   "execution_count": null,
   "id": "f096a974",
   "metadata": {},
   "outputs": [],
   "source": [
    "# Example:\n",
    "# grade = int(input('Enter your score: '))\n",
    "# if grade >= 90:\n",
    "#     print('A')\n",
    "# elif grade >= 80:\n",
    "#     print('B')\n",
    "# ..."
   ]
  }
 ],
 "metadata": {},
 "nbformat": 4,
 "nbformat_minor": 5
}