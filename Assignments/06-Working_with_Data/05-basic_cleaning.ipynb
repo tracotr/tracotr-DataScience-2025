{
 "cells": [
  {
   "cell_type": "markdown",
   "id": "c6364330",
   "metadata": {},
   "source": [
    "# 🧼 Cleaning Dirty Data (Missing Values & Type Fixes)\n",
    "\n",
    "## 🔹 LEARNING GOALS:\n",
    "- Detect and count missing values (`NaN`)\n",
    "- Fill or drop missing data\n",
    "- Convert column data types safely\n",
    "- Understand the difference between `NaN`, `None`, `\"\"`, and type mismatches\n"
   ]
  },
  {
   "cell_type": "markdown",
   "id": "f041599c",
   "metadata": {},
   "source": [
    "### 🧪 1. Load a Messy Dataset"
   ]
  },
  {
   "cell_type": "code",
   "execution_count": null,
   "id": "5790cfc6",
   "metadata": {},
   "outputs": [],
   "source": [
    "import pandas as pd\n",
    "import numpy as np\n",
    "\n",
    "data = {\n",
    "    \"Name\": [\"Alice\", \"Bob\", \"Charlie\", \"David\", None],\n",
    "    \"Age\": [\"25\", \"thirty\", 35, np.nan, \"40\"],\n",
    "    \"Signup Date\": [\"2022-01-01\", \"not a date\", \"2022/03/01\", None, \"April 5, 2022\"],\n",
    "    \"Score\": [95.5, None, 88.0, 92.5, \"\"]\n",
    "}\n",
    "\n",
    "df = pd.DataFrame(data)\n",
    "df"
   ]
  },
  {
   "cell_type": "markdown",
   "id": "4088d8ac",
   "metadata": {},
   "source": [
    "### 🧯 2. Detecting Missing or Broken Values"
   ]
  },
  {
   "cell_type": "code",
   "execution_count": null,
   "id": "b93c57a9",
   "metadata": {},
   "outputs": [],
   "source": [
    "df.isnull()"
   ]
  },
  {
   "cell_type": "code",
   "execution_count": null,
   "id": "c1a41815",
   "metadata": {},
   "outputs": [],
   "source": [
    "df.isnull().sum()"
   ]
  },
  {
   "cell_type": "code",
   "execution_count": null,
   "id": "0354acde",
   "metadata": {},
   "outputs": [],
   "source": [
    "df[df.isnull().any(axis=1)]"
   ]
  },
  {
   "cell_type": "markdown",
   "id": "28330229",
   "metadata": {},
   "source": [
    "### 🧹 3. Cleaning Strategy Options"
   ]
  },
  {
   "cell_type": "code",
   "execution_count": null,
   "id": "e0216356",
   "metadata": {},
   "outputs": [],
   "source": [
    "df.fillna({\n",
    "    \"Name\": \"Unknown\",\n",
    "    \"Age\": -1,\n",
    "    \"Signup Date\": \"1970-01-01\",\n",
    "    \"Score\": 0.0\n",
    "})"
   ]
  },
  {
   "cell_type": "code",
   "execution_count": null,
   "id": "3cad0ab6",
   "metadata": {},
   "outputs": [],
   "source": [
    "df.dropna()"
   ]
  },
  {
   "cell_type": "markdown",
   "id": "95354c9d",
   "metadata": {},
   "source": [
    "### 🧬 4. Data Type Fixes"
   ]
  },
  {
   "cell_type": "code",
   "execution_count": null,
   "id": "8bd9dc10",
   "metadata": {},
   "outputs": [],
   "source": [
    "df.dtypes"
   ]
  },
  {
   "cell_type": "code",
   "execution_count": null,
   "id": "a832e5b7",
   "metadata": {},
   "outputs": [],
   "source": [
    "df[\"Age\"] = pd.to_numeric(df[\"Age\"], errors=\"coerce\")\n",
    "df[\"Score\"] = pd.to_numeric(df[\"Score\"], errors=\"coerce\")\n",
    "df[\"Signup Date\"] = pd.to_datetime(df[\"Signup Date\"], errors=\"coerce\")\n",
    "df.dtypes"
   ]
  },
  {
   "cell_type": "markdown",
   "id": "e40947c4",
   "metadata": {},
   "source": [
    "### 🩹 5. Impute (Fill In) Fixed Missing Values"
   ]
  },
  {
   "cell_type": "code",
   "execution_count": null,
   "id": "23bc8952",
   "metadata": {},
   "outputs": [],
   "source": [
    "df[\"Age\"].fillna(df[\"Age\"].median(), inplace=True)\n",
    "df[\"Score\"].fillna(df[\"Score\"].mean(), inplace=True)"
   ]
  },
  {
   "cell_type": "code",
   "execution_count": null,
   "id": "3a2a526c",
   "metadata": {},
   "outputs": [],
   "source": [
    "df[\"Signup Date\"].fillna(df[\"Signup Date\"].min(), inplace=True)"
   ]
  },
  {
   "cell_type": "code",
   "execution_count": null,
   "id": "480f3b08",
   "metadata": {},
   "outputs": [],
   "source": [
    "df[\"Name\"].fillna(\"Unknown\", inplace=True)"
   ]
  },
  {
   "cell_type": "markdown",
   "id": "ca57b85c",
   "metadata": {},
   "source": [
    "### 🤓 6. Cleaned Data Review"
   ]
  },
  {
   "cell_type": "code",
   "execution_count": null,
   "id": "f4ae213e",
   "metadata": {},
   "outputs": [],
   "source": [
    "df.info()"
   ]
  },
  {
   "cell_type": "code",
   "execution_count": null,
   "id": "09be944b",
   "metadata": {},
   "outputs": [],
   "source": [
    "df.describe(include=\"all\")"
   ]
  },
  {
   "cell_type": "markdown",
   "id": "167cf0e8",
   "metadata": {},
   "source": [
    "### 🧪 Try It Yourself\n",
    "\n",
    "Modify the `data` dictionary at the top of this notebook. Add:\n",
    "- A new column with some `None` and `\"\"` values\n",
    "- At least one row with all columns filled incorrectly\n",
    "Then re-run the notebook and fix it step-by-step."
   ]
  },
  {
   "cell_type": "markdown",
   "id": "9c4b8031",
   "metadata": {},
   "source": [
    "### 🧠 Mini-Challenge\n",
    "\n",
    "> 🗂 Load `\"data/survey.csv\"` and:\n",
    "- Identify which columns have missing values\n",
    "- Use `.isnull().sum()` to get a null report\n",
    "- Use a mix of `.fillna()`, `.dropna()`, and `pd.to_numeric()` or `pd.to_datetime()` to clean it\n",
    "- Print a summary with `.info()` and `.describe()`"
   ]
  },
  {
   "cell_type": "markdown",
   "id": "2aa8c1ee",
   "metadata": {},
   "source": [
    "### 📝 Summary\n",
    "\n",
    "| Concept        | Tool/Function                      |\n",
    "|----------------|------------------------------------|\n",
    "| Detect nulls   | `df.isnull()`, `df.isnull().sum()` |\n",
    "| Drop rows      | `df.dropna()`                      |\n",
    "| Fill values    | `df.fillna()`                      |\n",
    "| Convert types  | `pd.to_numeric()`, `pd.to_datetime()` |\n",
    "| Replace values | `df.replace()`                     |\n"
   ]
  }
 ],
 "metadata": {},
 "nbformat": 4,
 "nbformat_minor": 5
}
