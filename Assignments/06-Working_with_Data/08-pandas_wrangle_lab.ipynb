{
 "cells": [
  {
   "cell_type": "markdown",
   "id": "581fddfb",
   "metadata": {},
   "source": [
    "# 🧪 Pandas Wrangle Lab: Clean & Explore a Real Dataset\n",
    "\n",
    "## 🔹 LEARNING GOALS:\n",
    "- Practice loading, cleaning, and exploring real-world data\n",
    "- Apply column creation, renaming, sorting, and filtering\n",
    "- Use `.info()`, `.describe()`, and `.query()` fluently\n"
   ]
  },
  {
   "cell_type": "markdown",
   "id": "66bee9ba",
   "metadata": {},
   "source": [
    "### 📥 1. Load the Dataset"
   ]
  },
  {
   "cell_type": "code",
   "execution_count": null,
   "id": "4129b3b1",
   "metadata": {},
   "outputs": [],
   "source": [
    "import pandas as pd\n",
    "df = pd.read_csv(\"../../data/students.csv\")\n",
    "df.head()"
   ]
  },
  {
   "cell_type": "markdown",
   "id": "37617080",
   "metadata": {},
   "source": [
    "### 🔎 2. Inspect and Audit the Data"
   ]
  },
  {
   "cell_type": "code",
   "execution_count": null,
   "id": "47f91043",
   "metadata": {},
   "outputs": [],
   "source": [
    "# Basic overview\n",
    "df.info()"
   ]
  },
  {
   "cell_type": "code",
   "execution_count": null,
   "id": "5f087651",
   "metadata": {},
   "outputs": [],
   "source": [
    "# Summary stats\n",
    "df.describe()"
   ]
  },
  {
   "cell_type": "markdown",
   "id": "5f183beb",
   "metadata": {},
   "source": [
    "### 🧼 3. Clean Missing or Invalid Data"
   ]
  },
  {
   "cell_type": "code",
   "execution_count": null,
   "id": "62833a1a",
   "metadata": {},
   "outputs": [],
   "source": [
    "# Check for missing values\n",
    "df.isnull().sum()"
   ]
  },
  {
   "cell_type": "code",
   "execution_count": null,
   "id": "5c6ff6b9",
   "metadata": {},
   "outputs": [],
   "source": [
    "# Drop rows with missing names\n",
    "df.dropna(subset=[\"first_name\", \"last_name\"], inplace=True)\n",
    "\n",
    "# Fill any missing scores with column average\n",
    "df[\"math_score\"].fillna(df[\"math_score\"].mean(), inplace=True)\n",
    "df[\"science_score\"].fillna(df[\"science_score\"].mean(), inplace=True)\n"
   ]
  },
  {
   "cell_type": "markdown",
   "id": "8fdd44f7",
   "metadata": {},
   "source": [
    "### 🧠 4. Feature Engineering (New Columns)"
   ]
  },
  {
   "cell_type": "code",
   "execution_count": null,
   "id": "1acc7fc5",
   "metadata": {},
   "outputs": [],
   "source": [
    "# Add average and grade\n",
    "df[\"average_score\"] = (df[\"math_score\"] + df[\"science_score\"]) / 2\n",
    "\n",
    "def grade(score):\n",
    "    if score >= 90:\n",
    "        return \"A\"\n",
    "    elif score >= 80:\n",
    "        return \"B\"\n",
    "    elif score >= 70:\n",
    "        return \"C\"\n",
    "    else:\n",
    "        return \"D\"\n",
    "\n",
    "df[\"grade\"] = df[\"average_score\"].apply(grade)\n",
    "df.head()"
   ]
  },
  {
   "cell_type": "markdown",
   "id": "689fc0ff",
   "metadata": {},
   "source": [
    "### 🔽 5. Sorting and Filtering"
   ]
  },
  {
   "cell_type": "code",
   "execution_count": null,
   "id": "196b8f85",
   "metadata": {},
   "outputs": [],
   "source": [
    "# Top performers\n",
    "df[df[\"average_score\"] > 90].sort_values(by=\"average_score\", ascending=False).head()"
   ]
  },
  {
   "cell_type": "markdown",
   "id": "6a426232",
   "metadata": {},
   "source": [
    "### 📊 6. Group and Describe by Grade"
   ]
  },
  {
   "cell_type": "code",
   "execution_count": null,
   "id": "31c01085",
   "metadata": {},
   "outputs": [],
   "source": [
    "# How many of each grade?\n",
    "df[\"grade\"].value_counts()"
   ]
  },
  {
   "cell_type": "code",
   "execution_count": null,
   "id": "d1128add",
   "metadata": {},
   "outputs": [],
   "source": [
    "# Average scores per grade group\n",
    "df.groupby(\"grade\")[[\"math_score\", \"science_score\", \"average_score\"]].mean()"
   ]
  },
  {
   "cell_type": "markdown",
   "id": "fef8b712",
   "metadata": {},
   "source": [
    "### 💾 7. Save the Cleaned Dataset"
   ]
  },
  {
   "cell_type": "code",
   "execution_count": null,
   "id": "ed6a833b",
   "metadata": {},
   "outputs": [],
   "source": [
    "df.to_csv(\"student_scores_cleaned.csv\", index=False)"
   ]
  },
  {
   "cell_type": "markdown",
   "id": "f6bbb759",
   "metadata": {},
   "source": [
    "### 🧠 Challenge Task\n",
    "\n",
    "> Your turn! Filter out students who got a D, sort by last name, and export to a new file:\n",
    "- Only include columns: `first_name`, `last_name`, `grade`\n",
    "- Save it as `\"d_students.csv\"`\n"
   ]
  },
  {
   "cell_type": "markdown",
   "id": "e966d924",
   "metadata": {},
   "source": [
    "### 📝 Summary\n",
    "\n",
    "This lab gave you hands-on experience with:\n",
    "- Cleaning nulls and type mismatches\n",
    "- Creating new columns\n",
    "- Filtering and sorting real data\n",
    "- Grouping and summarizing by categorical features\n",
    "\n",
    "Your data wrangling toolbox is now ready for real-world messiness. 🧹🛠️\n"
   ]
  }
 ],
 "metadata": {
  "language_info": {
   "name": "python"
  }
 },
 "nbformat": 4,
 "nbformat_minor": 5
}
