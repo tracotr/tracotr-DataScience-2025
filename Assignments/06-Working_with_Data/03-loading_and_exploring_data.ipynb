{
  "cells": [
    {
      "cell_type": "markdown",
      "metadata": {},
      "source": [
        "# 📂 Notebook 03: Loading and Exploring Data\n",
        "\n",
        "Welcome to the real world — where data lives in messy CSVs and your job is to make sense of it.\n",
        "\n",
        "In this notebook, you’ll:\n",
        "- Load a CSV file using `pd.read_csv()`\n",
        "- Use `.head()`, `.tail()`, `.info()`, and `.describe()` to explore your data\n",
        "- Identify potential issues (missing values, bad types, oddball rows)\n",
        "\n",
        "Let’s get our hands dirty.\n",
        "---"
      ]
    },
    {
      "cell_type": "code",
      "metadata": {},
      "execution_count": null,
      "outputs": [],
      "source": ["import pandas as pd"]
    },
    {
      "cell_type": "markdown",
      "metadata": {},
      "source": [
        "## 📥 Load a CSV\n",
        "\n",
        "Replace the filename below with a real CSV path or URL. For testing, use built-in seaborn datasets."
      ]
    },
    {
      "cell_type": "code",
      "metadata": {},
      "execution_count": null,
      "outputs": [],
      "source": [
        "# Example with seaborn's Titanic dataset\n",
        "import seaborn as sns\n",
        "df = sns.load_dataset(\"titanic\")\n",
        "df.head()"
      ]
    },
    {
      "cell_type": "markdown",
      "metadata": {},
      "source": ["## 📊 Peek at the Data"]
    },
    {
      "cell_type": "code",
      "metadata": {},
      "execution_count": null,
      "outputs": [],
      "source": [
        "# First and last few rows\n",
        "print(\"First 5 rows:\")\n",
        "print(df.head())\n",
        "\n",
        "print(\"\\nLast 5 rows:\")\n",
        "print(df.tail())"
      ]
    },
    {
      "cell_type": "markdown",
      "metadata": {},
      "source": ["## 🧠 Understand Structure"]
    },
    {
      "cell_type": "code",
      "metadata": {},
      "execution_count": null,
      "outputs": [],
      "source": [
        "# Dimensions and columns\n",
        "print(\"Shape:\", df.shape)\n",
        "print(\"\\nColumns:\", df.columns.tolist())"
      ]
    },
    {
      "cell_type": "markdown",
      "metadata": {},
      "source": ["## 🧼 Data Types & Missing Values"]
    },
    {
      "cell_type": "code",
      "metadata": {},
      "execution_count": null,
      "outputs": [],
      "source": [
        "# Data types and null counts\n",
        "print(\"\\nInfo:\")\n",
        "df.info()\n",
        "\n",
        "# How many missing values per column?\n",
        "print(\"\\nMissing values per column:\")\n",
        "print(df.isnull().sum())"
      ]
    },
    {
      "cell_type": "markdown",
      "metadata": {},
      "source": ["## 📈 Summary Statistics"]
    },
    {
      "cell_type": "code",
      "metadata": {},
      "execution_count": null,
      "outputs": [],
      "source": ["df.describe(include=\"all\")"]
    },
    {
      "cell_type": "markdown",
      "metadata": {},
      "source": ["## ✏️ Renaming Columns (Optional but fun)"]
    },
    {
      "cell_type": "code",
      "metadata": {},
      "execution_count": null,
      "outputs": [],
      "source": [
        "# Rename 'sex' to 'gender' for clarity\n",
        "df.rename(columns={\"sex\": \"gender\"}, inplace=True)\n",
        "df.head(2)"
      ]
    },
    {
      "cell_type": "markdown",
      "metadata": {},
      "source": [
        "---\n",
        "## 🔍 Your Turn\n",
        "\n",
        "1. Load a dataset of your choice (`pd.read_csv()` or `sns.load_dataset()`)\n",
        "2. Print the first and last 5 rows.\n",
        "3. Show `.info()` and `.describe()` results.\n",
        "4. Print the column names. Rename one of them.\n",
        "\n",
        "🎯 **Bonus:** What percentage of rows have *any* missing values?\n",
        "\n",
        "```python\n",
        "# HINT:\n",
        "df.isnull().any(axis=1).mean() * 100  # percent of rows with any NaNs\n",
        "```\n"
      ]
    },
    {
      "cell_type": "code",
      "metadata": {},
      "execution_count": null,
      "outputs": [],
      "source": ["# Your exploratory code playground!"]
    },
    {
      "cell_type": "markdown",
      "metadata": {},
      "source": [
        "---\n",
        "## 🎓 Why This Matters\n",
        "\n",
        "Every data science project begins here — importing and inspecting data. If your data is a mess (spoiler: it always is), you need to know how to check it, clean it, and prep it.\n",
        "\n",
        "Next up: slicing and dicing — using `.loc[]`, `.iloc[]`, and boolean masks to select what you want and ignore what you don't."
      ]
    }
  ],
  "metadata": {
    "kernelspec": {
      "display_name": "Python 3",
      "language": "python",
      "name": "python3"
    },
    "language_info": {
      "name": "python",
      "version": ""
    }
  },
  "nbformat": 4,
  "nbformat_minor": 2
}
