{
  "cells": [
    {
      "cell_type": "markdown",
      "metadata": {},
      "source": [
        "# 🐼 Notebook 02: Pandas Series and DataFrames\n",
        "\n",
        "Congratulations. You've graduated from lists and dictionaries — it’s time to wield a more powerful tool: **Pandas**.\n",
        "\n",
        "This notebook introduces you to the two most essential data structures in data science:\n",
        "\n",
        "- `Series`: a one-dimensional labeled array (like a dictionary and list had a well-organized child)\n",
        "- `DataFrame`: a two-dimensional table with labeled axes (basically Excel’s smarter cousin)\n",
        "\n",
        "---"
      ]
    },
    {
      "cell_type": "code",
      "execution_count": null,
      "metadata": {},
      "outputs": [],
      "source": ["import pandas as pd"]
    },
    {
      "cell_type": "markdown",
      "metadata": {},
      "source": [
        "## 🔢 Series from a List\n",
        "Simple but powerful — labels give it superpowers."
      ]
    },
    {
      "cell_type": "code",
      "execution_count": null,
      "metadata": {},
      "outputs": [],
      "source": [
        "# A Series from a list — just like a list, but fancier and labeled\n",
        "prices = pd.Series([2.99, 4.49, 1.99], index=[\"Apple\", \"Milk\", \"Bread\"])\n",
        "print(\"Grocery Prices:\")\n",
        "print(prices)\n",
        "\n",
        "# Accessing elements like a dictionary\n",
        "print(\"\\nPrice of Milk:\", prices[\"Milk\"])"
      ]
    },
    {
      "cell_type": "markdown",
      "metadata": {},
      "source": [
        "## 🗺️ Series from a Dictionary\n",
        "Keys become the index — pretty intuitive, right?"
      ]
    },
    {
      "cell_type": "code",
      "execution_count": null,
      "metadata": {},
      "outputs": [],
      "source": [
        "population = {\n",
        "    \"Texas\": 29_000_000,\n",
        "    \"California\": 39_000_000,\n",
        "    \"New York\": 19_000_000\n",
        "}\n",
        "\n",
        "state_pop = pd.Series(population)\n",
        "print(\"State Populations:\")\n",
        "print(state_pop)\n",
        "\n",
        "# Series support math!\n",
        "print(\"\\nPopulation in millions:\")\n",
        "print(state_pop / 1_000_000)"
      ]
    },
    {
      "cell_type": "markdown",
      "metadata": {},
      "source": [
        "## 📋 Creating a DataFrame\n",
        "Like a spreadsheet, but you control the universe."
      ]
    },
    {
      "cell_type": "code",
      "execution_count": null,
      "metadata": {},
      "outputs": [],
      "source": [
        "# Creating a DataFrame — the bread and butter of Pandas\n",
        "data = {\n",
        "    \"Name\": [\"Alice\", \"Bob\", \"Charlie\", \"Diana\"],\n",
        "    \"GPA\": [3.9, 2.7, 3.4, 3.8],\n",
        "    \"Credits\": [90, 45, 60, 120],\n",
        "    \"Graduating\": [False, False, False, True]\n",
        "}\n",
        "\n",
        "students = pd.DataFrame(data)\n",
        "print(\"Student DataFrame:\")\n",
        "print(students)"
      ]
    },
    {
      "cell_type": "markdown",
      "metadata": {},
      "source": ["## 🎯 Column Access + Row Access"]
    },
    {
      "cell_type": "code",
      "execution_count": null,
      "metadata": {},
      "outputs": [],
      "source": [
        "# Access a column\n",
        "print(\"\\nGPA column:\")\n",
        "print(students[\"GPA\"])\n",
        "\n",
        "# Access a row\n",
        "print(\"\\nCharlie's record:\")\n",
        "print(students.loc[2])"
      ]
    },
    {
      "cell_type": "markdown",
      "metadata": {},
      "source": ["## 🧪 Inspect the DataFrame"]
    },
    {
      "cell_type": "code",
      "execution_count": null,
      "metadata": {},
      "outputs": [],
      "source": [
        "# Shape and structure\n",
        "print(\"\\nShape:\", students.shape)\n",
        "print(\"\\nColumns:\", students.columns.tolist())\n",
        "\n",
        "# Info dump\n",
        "print(\"\\nDataFrame Info:\")\n",
        "print(students.info())\n",
        "\n",
        "# Stats summary\n",
        "print(\"\\nDataFrame Summary Stats:\")\n",
        "print(students.describe())"
      ]
    },
    {
      "cell_type": "markdown",
      "metadata": {},
      "source": ["## 🧼 Rename a Column"]
    },
    {
      "cell_type": "code",
      "execution_count": null,
      "metadata": {},
      "outputs": [],
      "source": [
        "students.rename(columns={\"Graduating\": \"Is_Graduating\"}, inplace=True)\n",
        "print(\"\\nRenamed column:\")\n",
        "print(students.head())"
      ]
    },
    {
      "cell_type": "markdown",
      "metadata": {},
      "source": [
        "---\n",
        "## 🔍 Your Turn\n",
        "\n",
        "1. Create a `Series` from a dictionary of state abbreviations to population (use fake or real data).\n",
        "2. Create a `DataFrame` for 5 students with columns: `Name`, `GPA`, `Credits`, `Graduating` (True/False).\n",
        "3. Try accessing a row using `.loc[]` and a column using bracket notation.\n",
        "4. Print the `.shape`, `.columns`, and `.info()` of your DataFrame.\n",
        "\n",
        "🎯 Bonus: Rename a column just to mess with the future grader."
      ]
    },
    {
      "cell_type": "code",
      "execution_count": null,
      "metadata": {},
      "outputs": [],
      "source": ["# Your data science destiny begins here."]
    },
    {
      "cell_type": "markdown",
      "metadata": {},
      "source": [
        "---\n",
        "## 📎 Side Notes\n",
        "- A `Series` is like a single column of a spreadsheet.\n",
        "- A `DataFrame` is like the full spreadsheet.\n",
        "- Rows and columns can both have labels (called the **index** and **columns**).\n",
        "\n",
        "Next stop: loading data from the real world. Brace yourself for CSVs."
      ]
    }
  ],
  "metadata": {
    "kernelspec": {
      "display_name": "Python 3",
      "language": "python",
      "name": "python3"
    },
    "language_info": {
      "name": "python",
      "version": ""
    }
  },
  "nbformat": 4,
  "nbformat_minor": 2
}
