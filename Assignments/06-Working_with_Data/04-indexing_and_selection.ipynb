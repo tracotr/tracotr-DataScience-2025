{
  "cells": [
    {
      "cell_type": "markdown",
      "metadata": {},
      "source": [
        "# 🎯 Notebook 04: Indexing and Selection\n",
        "\n",
        "Time to slice and dice.\n",
        "\n",
        "In this notebook, you'll:\n",
        "- Use `.loc[]` for label-based selection\n",
        "- Use `.iloc[]` for position-based selection\n",
        "- Create boolean masks to filter rows\n",
        "- Select specific columns and rows (solo or together)\n",
        "\n",
        "Let the chaos of index manipulation begin.\n",
        "---"
      ]
    },
    {
      "cell_type": "code",
      "metadata": {},
      "execution_count": null,
      "outputs": [],
      "source": [
        "import pandas as pd\n",
        "import seaborn as sns\n",
        "\n",
        "# We'll use the Titanic dataset again\n",
        "df = sns.load_dataset(\"titanic\")\n",
        "df.head(3)"
      ]
    },
    {
      "cell_type": "markdown",
      "metadata": {},
      "source": ["## 🔎 Select rows by label with `.loc[]`"]
    },
    {
      "cell_type": "code",
      "metadata": {},
      "execution_count": null,
      "outputs": [],
      "source": [
        "# .loc[row_label, column_label]\n",
        "# Titanic uses default RangeIndex, so labels are integers\n",
        "print(df.loc[0])\n",
        "\n",
        "# Row range (inclusive!)\n",
        "df.loc[0:4, [\"age\", \"fare\", \"sex\"]]"
      ]
    },
    {
      "cell_type": "markdown",
      "metadata": {},
      "source": ["## 🔢 Select rows by position with `.iloc[]`"]
    },
    {
      "cell_type": "code",
      "metadata": {},
      "execution_count": null,
      "outputs": [],
      "source": [
        "# iloc uses pure positions\n",
        "df.iloc[0]  # First row\n",
        "\n",
        "# Row slice, column slice\n",
        "df.iloc[1:4, 0:5]"
      ]
    },
    {
      "cell_type": "markdown",
      "metadata": {},
      "source": ["## 🎯 Boolean Masking (Filtering)"]
    },
    {
      "cell_type": "code",
      "metadata": {},
      "execution_count": null,
      "outputs": [],
      "source": [
        "# Filter passengers under age 10\n",
        "kids = df[df[\"age\"] < 10]\n",
        "kids[[\"age\", \"sex\", \"class\"]].head()"
      ]
    },
    {
      "cell_type": "markdown",
      "metadata": {},
      "source": ["## 🧠 Compound Conditions"]
    },
    {
      "cell_type": "code",
      "metadata": {},
      "execution_count": null,
      "outputs": [],
      "source": [
        "# Adults in First Class who paid over $100\n",
        "rich_folks = df[(df[\"age\"] > 18) & (df[\"class\"] == \"First\") & (df[\"fare\"] > 100)]\n",
        "rich_folks[[\"age\", \"class\", \"fare\"]].head()"
      ]
    },
    {
      "cell_type": "markdown",
      "metadata": {},
      "source": ["## 🧹 Select Columns Only"]
    },
    {
      "cell_type": "code",
      "metadata": {},
      "execution_count": null,
      "outputs": [],
      "source": ["df[[\"sex\", \"age\", \"embarked\"]].head()"]
    },
    {
      "cell_type": "markdown",
      "metadata": {},
      "source": [
        "## 🎯 Your Turn\n",
        "\n",
        "1. Select the first row using `.iloc[]`, then again using `.loc[]`.\n",
        "2. Slice the first 5 rows and select only `survived`, `sex`, and `age` columns.\n",
        "3. Filter the dataset for female passengers over 40.\n",
        "4. Create a DataFrame of passengers in 2nd class under age 15.\n",
        "5. Use `.loc[]` to select the rows 10–20 and only the columns `fare`, `class`, and `age`.\n",
        "\n",
        "🎯 **Bonus:** Find passengers with missing `age` and print only their `name`, `age`, and `pclass` (use `.isnull()`)."
      ]
    },
    {
      "cell_type": "code",
      "metadata": {},
      "execution_count": null,
      "outputs": [],
      "source": ["# Your slicing magic goes here!"]
    },
    {
      "cell_type": "markdown",
      "metadata": {},
      "source": [
        "---\n",
        "## 🧼 Why This Matters\n",
        "\n",
        "Being able to surgically select parts of your dataset is the core of real analysis. Whether you're cleaning junk or feeding a model, proper indexing = power.\n",
        "\n",
        "Next: cleaning your data with `.dropna()`, `.fillna()`, and more. The fun begins when you try to fix the stuff that's broken."
      ]
    }
  ],
  "metadata": {
    "kernelspec": {
      "display_name": "Python 3",
      "language": "python",
      "name": "python3"
    },
    "language_info": {
      "name": "python",
      "version": ""
    }
  },
  "nbformat": 4,
  "nbformat_minor": 2
}
